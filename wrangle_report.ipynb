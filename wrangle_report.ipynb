{
 "cells": [
  {
   "cell_type": "markdown",
   "id": "c4f6035b",
   "metadata": {},
   "source": [
    "# Wrangle Report\n",
    "The project focussed on creating a master dataframe to allow evaluation of **WeRateDogs** twitter data. Essentially this is a light-hearted contest for rating personal dogs on the basis of images,tweets and further properties of the dogs.\n",
    "\n",
    "To create the master dataframe 3 sources of data where gathered, assessed and cleaned. \n",
    "The methods to source this data where by 1. direct download of a .csv file, 2. By scraping data with request, and  by using **tweepy API**, a commonly used API for twitter data.\n",
    "\n",
    "The common identifier of the dataset was the **tweet_id**, and after having taken a series of qualitative and quantitative cleaning steps all datasets could be merged to  the master dataframe.\n",
    "\n",
    "The dataframes partly started with a larger number of rows but there where 3 limitations that lead to exclusion of rows and made the dataset smaller:\n",
    "\n",
    "Only tweets with images where to be considered\n",
    "The cleaning off the dataset that had compartment that had these images, also was run through a neural network, and the images with the highest probability of not being dog images, but images of other animals or objects, where dropped from the dataset programmatically, with emphasis of waging the highest quality data while retaining a relatively large a relatively large dataset, further a few rows of NotDog Images where manually dropped after visual investigation\n",
    "In the final iteration of the master dataframe it was decided to **inner join** the dataset with _favorite count_ and _retweet count_ as in particular a complete distribution of _favorite count_ proved to give better insights than total score, this dataset however was smaller than the prior joined master dataframe, leading to the final number of rows.\n",
    "\n",
    "_total score_ is an independent variable that was calculated by _rating numerator_ and _rating denominator_, while great care was taken, the score has to be considered with caution, as there are several issues with this score:\n",
    "\n",
    "The overall score can be above 100% since a feature of the dataset is that the _rating numerator_ can be greater than the _rating denominator_ for fun\n",
    "There where several false/missing values added since it was unlikely to have score a numerator score of e.g. 1 or 3. It was decided to average out all values below 8.\n",
    "The developer that first gathered this data acknowledged that here may be issues with both columns, _rating numerator_ and _rating denominator_\n",
    "\n",
    "In particular latter mentioned circumstance suggested to additionally focus on _favorite count_ for analysis."
   ]
  }
 ],
 "metadata": {
  "kernelspec": {
   "display_name": "Python 3 (ipykernel)",
   "language": "python",
   "name": "python3"
  },
  "language_info": {
   "codemirror_mode": {
    "name": "ipython",
    "version": 3
   },
   "file_extension": ".py",
   "mimetype": "text/x-python",
   "name": "python",
   "nbconvert_exporter": "python",
   "pygments_lexer": "ipython3",
   "version": "3.8.12"
  }
 },
 "nbformat": 4,
 "nbformat_minor": 5
}
